{
 "cells": [
  {
   "cell_type": "markdown",
   "metadata": {},
   "source": [
    "---\n",
    "#### LAZ File Reading, Writing and Plotting \n",
    "\n",
    "1. Read LAZ files from disk using PDAL and extract spatial boundary information.\n",
    "2. Graph data and create visualizations of the point clouds using PYLAS.\n",
    "---"
   ]
  },
  {
   "cell_type": "markdown",
   "metadata": {},
   "source": [
    "## PDAL\n",
    "#### Load pdal and other dependencies"
   ]
  },
  {
   "cell_type": "markdown",
   "metadata": {},
   "source": [
    "https://pdal.io/python.html#python  \n",
    "conda install python-pdal"
   ]
  },
  {
   "cell_type": "code",
   "execution_count": null,
   "metadata": {},
   "outputs": [],
   "source": [
    "import pdal, json, os, subprocess\n",
    "import numpy as np\n",
    "import pandas as pd\n",
    "import matplotlib\n",
    "import matplotlib.pyplot as plt\n",
    "import matplotlib.mlab as mlab\n",
    "from matplotlib import cm\n",
    "from descartes import PolygonPatch\n",
    "\n",
    "from tkinter import Tk\n",
    "from tkinter.filedialog import askopenfilename\n",
    "\n",
    "#matplotlib.use('Agg')"
   ]
  },
  {
   "cell_type": "code",
   "execution_count": null,
   "metadata": {},
   "outputs": [],
   "source": [
    "# It's always nice to check that you're in the right place.\n",
    "%pwd\n",
    "# The notebook usually opens in the notebook subfolder, so you may want to change to the base directory using the code below.\n",
    "%cd .."
   ]
  },
  {
   "cell_type": "markdown",
   "metadata": {},
   "source": [
    "#### <b>Import</b> .laz file from your computer\n",
    "Note: You will need to supply your own .laz file from a local directory. An example file (SNEX19_CRREL.laz) is included in the /data folder, but due to size limitations will need to be uploaded from your local machine."
   ]
  },
  {
   "cell_type": "code",
   "execution_count": null,
   "metadata": {},
   "outputs": [],
   "source": [
    "Tk().withdraw()\n",
    "file_name = askopenfilename()\n",
    "print(file_name)"
   ]
  },
  {
   "cell_type": "markdown",
   "metadata": {},
   "source": [
    "#### <b>Read</b> point cloud data using the pdal.io <i> pipeline </i> method\n",
    "Read more: https://pdal.io/pipeline.html"
   ]
  },
  {
   "cell_type": "code",
   "execution_count": null,
   "metadata": {},
   "outputs": [],
   "source": [
    "# Load in the LAZ file\n",
    "lasfile = file_name\n",
    "\n",
    "pipeline = [\n",
    "        {\n",
    "            \"type\": \"readers.las\",\n",
    "            \"filename\": lasfile\n",
    "        }\n",
    "    ]\n",
    "\n",
    "pipeline = pdal.Pipeline(json.dumps(pipeline))\n",
    "pipeline.execute()\n",
    "arrays = pipeline.arrays"
   ]
  },
  {
   "cell_type": "markdown",
   "metadata": {},
   "source": [
    "#### <b>Print</b> point cloud file hierarchy information "
   ]
  },
  {
   "cell_type": "code",
   "execution_count": null,
   "metadata": {},
   "outputs": [],
   "source": [
    "# Prints a point count of the data\n",
    "print('Point count:', json.loads(pipeline.metadata)[\"metadata\"][\"readers.las\"][\"count\"])"
   ]
  },
  {
   "cell_type": "code",
   "execution_count": null,
   "metadata": {},
   "outputs": [],
   "source": [
    "# Prints the .las file schema, or hierarchy\n",
    "pipeline.schema"
   ]
  },
  {
   "cell_type": "markdown",
   "metadata": {},
   "source": [
    "#### <b>Print</b> a (very long) list of file metadata"
   ]
  },
  {
   "cell_type": "code",
   "execution_count": null,
   "metadata": {},
   "outputs": [],
   "source": [
    "json.loads(pipeline.metadata)[\"metadata\"][\"readers.las\"]"
   ]
  },
  {
   "cell_type": "markdown",
   "metadata": {},
   "source": [
    "---\n",
    "#### <b>Print</b> spatial information using <i>subprocess</i> package"
   ]
  },
  {
   "cell_type": "code",
   "execution_count": null,
   "metadata": {},
   "outputs": [],
   "source": [
    "# This subprocess is necessary to extract -info, which contains spatial information using python\n",
    "result = subprocess.run(['pdal', 'info', lasfile],\n",
    "                        stderr = subprocess.PIPE,  # stderr and stdout get\n",
    "                        stdout = subprocess.PIPE)  # captured as bytestrings\n",
    "\n",
    "json_result = json.loads(result.stdout.decode())"
   ]
  },
  {
   "cell_type": "code",
   "execution_count": null,
   "metadata": {},
   "outputs": [],
   "source": [
    "print('Converted to WGS84:')\n",
    "json_result['stats']['bbox']['EPSG:4326']"
   ]
  },
  {
   "cell_type": "code",
   "execution_count": null,
   "metadata": {},
   "outputs": [],
   "source": [
    "#Run this code if you want coorindates in native UTM coordinates\n",
    "#json_result['stats']['bbox']['native']"
   ]
  },
  {
   "cell_type": "code",
   "execution_count": null,
   "metadata": {},
   "outputs": [],
   "source": [
    "coords = json_result['stats']['bbox']['EPSG:4326']['boundary']['coordinates']\n",
    "print(coords)"
   ]
  },
  {
   "cell_type": "code",
   "execution_count": null,
   "metadata": {},
   "outputs": [],
   "source": [
    "poly = json_result['stats']['bbox']['EPSG:4326']['boundary']\n",
    "print(poly)"
   ]
  },
  {
   "cell_type": "code",
   "execution_count": null,
   "metadata": {},
   "outputs": [],
   "source": [
    "BLUE = '#6699cc'\n",
    "fig = plt.figure() \n",
    "ax = fig.gca() \n",
    "ax.add_patch(PolygonPatch(poly, fc=BLUE, ec=BLUE, alpha=0.5, zorder=2 ))\n",
    "ax.axis('scaled')\n",
    "plt.show()"
   ]
  },
  {
   "cell_type": "markdown",
   "metadata": {},
   "source": [
    "## PYLAS\n",
    "### <b>Import and plot</b> data using the <i>pylas</i> package  \n",
    "<b>*Note:</b> this method (for unkown reasons) distorts data values <i>BUT</i> will visualize the data correctly, so should only be used for plotting"
   ]
  },
  {
   "cell_type": "code",
   "execution_count": null,
   "metadata": {},
   "outputs": [],
   "source": [
    "#pylas dependencies\n",
    "#pip install pylas[lazrs]\n",
    "import pylas\n",
    "import lazrs\n",
    "import s3fs\n",
    "from laspy.file import File\n",
    "import datashader as ds\n",
    "import datashader.transfer_functions as tf"
   ]
  },
  {
   "cell_type": "code",
   "execution_count": null,
   "metadata": {},
   "outputs": [],
   "source": [
    "# Command line option: !LAStools/bin/laszip -i /filepath/file.laz -o SNEX19_CRREL.las"
   ]
  },
  {
   "cell_type": "code",
   "execution_count": null,
   "metadata": {},
   "outputs": [],
   "source": [
    "sample_data = './data/SNEX19_CRREL.laz'\n",
    "export_path = 'export//'"
   ]
  },
  {
   "cell_type": "code",
   "execution_count": null,
   "metadata": {},
   "outputs": [],
   "source": [
    "inFile = File(sample_data, mode='r')"
   ]
  },
  {
   "cell_type": "code",
   "execution_count": null,
   "metadata": {},
   "outputs": [],
   "source": [
    "df = pd.DataFrame() \n",
    "df['X'] = inFile.X \n",
    "df['Y'] = inFile.Y \n",
    "df['Z'] = inFile.Z\n",
    "df['intensity'] = inFile.intensity\n",
    "display(df)"
   ]
  },
  {
   "cell_type": "markdown",
   "metadata": {},
   "source": [
    "#### Create a simple plot using <i>matplotlib</i>"
   ]
  },
  {
   "cell_type": "code",
   "execution_count": null,
   "metadata": {},
   "outputs": [],
   "source": [
    "plt.scatter(df.X, df.Y, c=df.intensity, marker='.', edgecolor='none')\n",
    "plt.plot()"
   ]
  },
  {
   "cell_type": "markdown",
   "metadata": {},
   "source": [
    "#### Create a larger plot using <i>datashader</i>"
   ]
  },
  {
   "cell_type": "code",
   "execution_count": null,
   "metadata": {},
   "outputs": [],
   "source": [
    "cvs = ds.Canvas(plot_width=1000, plot_height=1000)\n",
    "agg = cvs.points(df, 'X', 'Y', ds.mean('Z'))\n",
    "img = tf.shade(agg)\n",
    "tf.set_background(tf.shade(agg, cmap=cm.inferno),\"black\")"
   ]
  },
  {
   "cell_type": "markdown",
   "metadata": {},
   "source": [
    "### <b>Plot and Save</b> a histogram of the LAZ data  \n",
    "Get a visual summary of your data"
   ]
  },
  {
   "cell_type": "code",
   "execution_count": null,
   "metadata": {},
   "outputs": [],
   "source": [
    "# Will require install of \n",
    "# def make_plot(dimensions, filename, dpi=300):\n",
    "#     figure_position = 1\n",
    "#     row = 1\n",
    "#     fig = plt.figure(figure_position, figsize=(6, 8.5), dpi=dpi)\n",
    "#     keys = dimensions.dtype.fields.keys()\n",
    "\n",
    "#     for key in keys:\n",
    "#         dimension = dimensions[key]\n",
    "#         ax = fig.add_subplot(len(keys), 1, row)\n",
    "\n",
    "#         n, bins, patches = ax.hist( dimension, 30,\n",
    "#                                     #normed=0,\n",
    "#                                     facecolor='grey',\n",
    "#                                     alpha=0.75,\n",
    "#                                     align='mid',\n",
    "#                                     histtype='stepfilled',\n",
    "#                                     linewidth=None)\n",
    "\n",
    "#         ax.set_ylabel(key, size=10, rotation='horizontal')\n",
    "#         ax.get_xaxis().set_visible(False)\n",
    "#         ax.set_yticklabels('')\n",
    "#         ax.set_yticks((),)\n",
    "#         ax.set_xlim(min(dimension), max(dimension))\n",
    "#         ax.set_ylim(min(n), max(n))\n",
    "#         row = row + 1\n",
    "#         figure_position = figure_position + 1\n",
    "#     output = BytesIO()\n",
    "#     plt.savefig(output,format=\"PNG\")\n",
    "\n",
    "#     o = open(filename, 'wb')\n",
    "#     o.write(output.getvalue())\n",
    "#     o.close()\n",
    "#     return True\n",
    "\n",
    "# make_plot(arrays[0], 'histogram.png')"
   ]
  }
 ],
 "metadata": {
  "kernelspec": {
   "display_name": "Python 3",
   "language": "python",
   "name": "python3"
  },
  "language_info": {
   "codemirror_mode": {
    "name": "ipython",
    "version": 3
   },
   "file_extension": ".py",
   "mimetype": "text/x-python",
   "name": "python",
   "nbconvert_exporter": "python",
   "pygments_lexer": "ipython3",
   "version": "3.7.9"
  }
 },
 "nbformat": 4,
 "nbformat_minor": 4
}
