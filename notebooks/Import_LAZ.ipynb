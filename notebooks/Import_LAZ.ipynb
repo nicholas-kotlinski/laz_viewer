{
 "cells": [
  {
   "cell_type": "markdown",
   "metadata": {},
   "source": [
    "![title](data/logo.png)\n",
    "#### LAZ File Reading, Writing and Plotting \n",
    "\n",
    "1. Read LAZ files from disk using PDAL and extract spatial boundary information.\n",
    "3. Graph data and create visualizations of the point clouds using PYLAS."
   ]
  },
  {
   "cell_type": "markdown",
   "metadata": {},
   "source": [
    "#### Load pdal and other dependencies"
   ]
  },
  {
   "cell_type": "code",
   "execution_count": 11,
   "metadata": {},
   "outputs": [],
   "source": [
    "import pdal\n",
    "import json\n",
    "import numpy as np\n",
    "import pandas as pd\n",
    "import subprocess\n",
    "import os\n",
    "import matplotlib\n",
    "from matplotlib import cm\n",
    "import matplotlib.pyplot as plt\n",
    "import matplotlib.mlab as mlab\n",
    "matplotlib.use('Agg')"
   ]
  },
  {
   "cell_type": "markdown",
   "metadata": {},
   "source": [
    "https://pdal.io/python.html#python  \n",
    "conda install python-pdal"
   ]
  },
  {
   "cell_type": "code",
   "execution_count": 2,
   "metadata": {},
   "outputs": [
    {
     "data": {
      "text/plain": [
       "'C:\\\\Users\\\\niko8816\\\\Projects\\\\laz'"
      ]
     },
     "execution_count": 2,
     "metadata": {},
     "output_type": "execute_result"
    }
   ],
   "source": [
    "# Always nice to check that you're in the right place\n",
    "%pwd"
   ]
  },
  {
   "cell_type": "code",
   "execution_count": 3,
   "metadata": {},
   "outputs": [
    {
     "data": {
      "text/plain": [
       "40028042"
      ]
     },
     "execution_count": 3,
     "metadata": {},
     "output_type": "execute_result"
    }
   ],
   "source": [
    "# Load in the LAZ file\n",
    "lasfile = 'data\\SNEX19_TLS_PC_CRREL_09232019_FL2D_WGS84.laz'\n",
    "\n",
    "pipeline = [\n",
    "        {\n",
    "            \"type\": \"readers.las\",\n",
    "            \"filename\": lasfile\n",
    "        },\n",
    "        {\n",
    "            \"type\": \"filters.sort\",\n",
    "            \"dimension\": \"Z\"\n",
    "        }\n",
    "    ]\n",
    "\n",
    "pipeline = pdal.Pipeline(json.dumps(pipeline))\n",
    "pipeline.execute()\n",
    "arrays = pipeline.arrays"
   ]
  },
  {
   "cell_type": "code",
   "execution_count": 4,
   "metadata": {},
   "outputs": [
    {
     "name": "stdout",
     "output_type": "stream",
     "text": [
      "Point count: 40028042\n"
     ]
    }
   ],
   "source": [
    "# Prints a point count of the data\n",
    "print('Point count:', json.loads(pipeline.metadata)[\"metadata\"][\"readers.las\"][\"count\"])"
   ]
  },
  {
   "cell_type": "code",
   "execution_count": 5,
   "metadata": {},
   "outputs": [
    {
     "data": {
      "text/plain": [
       "{'schema': {'dimensions': [{'name': 'X', 'size': 8, 'type': 'floating'},\n",
       "   {'name': 'Y', 'size': 8, 'type': 'floating'},\n",
       "   {'name': 'Z', 'size': 8, 'type': 'floating'},\n",
       "   {'name': 'Intensity', 'size': 2, 'type': 'unsigned'},\n",
       "   {'name': 'ReturnNumber', 'size': 1, 'type': 'unsigned'},\n",
       "   {'name': 'NumberOfReturns', 'size': 1, 'type': 'unsigned'},\n",
       "   {'name': 'ScanDirectionFlag', 'size': 1, 'type': 'unsigned'},\n",
       "   {'name': 'EdgeOfFlightLine', 'size': 1, 'type': 'unsigned'},\n",
       "   {'name': 'Classification', 'size': 1, 'type': 'unsigned'},\n",
       "   {'name': 'ScanAngleRank', 'size': 4, 'type': 'floating'},\n",
       "   {'name': 'UserData', 'size': 1, 'type': 'unsigned'},\n",
       "   {'name': 'PointSourceId', 'size': 2, 'type': 'unsigned'},\n",
       "   {'name': 'GpsTime', 'size': 8, 'type': 'floating'}]}}"
      ]
     },
     "execution_count": 5,
     "metadata": {},
     "output_type": "execute_result"
    }
   ],
   "source": [
    "# Prints the .las file schema, or hierarchy\n",
    "pipeline.schema"
   ]
  },
  {
   "cell_type": "code",
   "execution_count": 6,
   "metadata": {},
   "outputs": [
    {
     "data": {
      "text/plain": [
       "{'comp_spatialreference': 'COMPD_CS[\"unknown\",PROJCS[\"WGS 84 / UTM zone 12N\",GEOGCS[\"WGS 84\",DATUM[\"WGS_1984\",SPHEROID[\"WGS 84\",6378137,298.257223563,AUTHORITY[\"EPSG\",\"7030\"]],AUTHORITY[\"EPSG\",\"6326\"]],PRIMEM[\"Greenwich\",0,AUTHORITY[\"EPSG\",\"8901\"]],UNIT[\"degree\",0.0174532925199433,AUTHORITY[\"EPSG\",\"9122\"]],AUTHORITY[\"EPSG\",\"4326\"]],PROJECTION[\"Transverse_Mercator\"],PARAMETER[\"latitude_of_origin\",0],PARAMETER[\"central_meridian\",-111],PARAMETER[\"scale_factor\",0.9996],PARAMETER[\"false_easting\",500000],PARAMETER[\"false_northing\",0],UNIT[\"metre\",1,AUTHORITY[\"EPSG\",\"9001\"]],AXIS[\"Easting\",EAST],AXIS[\"Northing\",NORTH],AUTHORITY[\"EPSG\",\"32612\"]],VERT_CS[\"unknown\",VERT_DATUM[\"World Geodetic System 1984\",2005,AUTHORITY[\"EPSG\",\"6326\"]],UNIT[\"metre\",1,AUTHORITY[\"EPSG\",\"9001\"]],AXIS[\"Up\",UP]]]',\n",
       " 'compressed': True,\n",
       " 'count': 40028042,\n",
       " 'creation_doy': 364,\n",
       " 'creation_year': 2019,\n",
       " 'dataformat_id': 1,\n",
       " 'dataoffset': 429,\n",
       " 'filesource_id': 0,\n",
       " 'global_encoding': 0,\n",
       " 'global_encoding_base64': 'AAA=',\n",
       " 'header_size': 227,\n",
       " 'major_version': 1,\n",
       " 'maxx': 744327.366,\n",
       " 'maxy': 4324194.645,\n",
       " 'maxz': 3106.058999,\n",
       " 'minor_version': 2,\n",
       " 'minx': 744174.899,\n",
       " 'miny': 4324076.375,\n",
       " 'minz': 3074.013,\n",
       " 'offset_x': 744251.132497787,\n",
       " 'offset_y': 4324135.50999832,\n",
       " 'offset_z': 3090.03599973226,\n",
       " 'point_length': 28,\n",
       " 'project_id': '00000000-0000-0000-0000-000000000000',\n",
       " 'scale_x': 7.09979790844736e-08,\n",
       " 'scale_y': 5.5073758912338e-08,\n",
       " 'scale_z': 1.49225813719889e-08,\n",
       " 'software_id': 'QT Modeler 8.1.1468',\n",
       " 'spatialreference': 'COMPD_CS[\"unknown\",PROJCS[\"WGS 84 / UTM zone 12N\",GEOGCS[\"WGS 84\",DATUM[\"WGS_1984\",SPHEROID[\"WGS 84\",6378137,298.257223563,AUTHORITY[\"EPSG\",\"7030\"]],AUTHORITY[\"EPSG\",\"6326\"]],PRIMEM[\"Greenwich\",0,AUTHORITY[\"EPSG\",\"8901\"]],UNIT[\"degree\",0.0174532925199433,AUTHORITY[\"EPSG\",\"9122\"]],AUTHORITY[\"EPSG\",\"4326\"]],PROJECTION[\"Transverse_Mercator\"],PARAMETER[\"latitude_of_origin\",0],PARAMETER[\"central_meridian\",-111],PARAMETER[\"scale_factor\",0.9996],PARAMETER[\"false_easting\",500000],PARAMETER[\"false_northing\",0],UNIT[\"metre\",1,AUTHORITY[\"EPSG\",\"9001\"]],AXIS[\"Easting\",EAST],AXIS[\"Northing\",NORTH],AUTHORITY[\"EPSG\",\"32612\"]],VERT_CS[\"unknown\",VERT_DATUM[\"World Geodetic System 1984\",2005,AUTHORITY[\"EPSG\",\"6326\"]],UNIT[\"metre\",1,AUTHORITY[\"EPSG\",\"9001\"]],AXIS[\"Up\",UP]]]',\n",
       " 'srs': {'compoundwkt': 'COMPD_CS[\"unknown\",PROJCS[\"WGS 84 / UTM zone 12N\",GEOGCS[\"WGS 84\",DATUM[\"WGS_1984\",SPHEROID[\"WGS 84\",6378137,298.257223563,AUTHORITY[\"EPSG\",\"7030\"]],AUTHORITY[\"EPSG\",\"6326\"]],PRIMEM[\"Greenwich\",0,AUTHORITY[\"EPSG\",\"8901\"]],UNIT[\"degree\",0.0174532925199433,AUTHORITY[\"EPSG\",\"9122\"]],AUTHORITY[\"EPSG\",\"4326\"]],PROJECTION[\"Transverse_Mercator\"],PARAMETER[\"latitude_of_origin\",0],PARAMETER[\"central_meridian\",-111],PARAMETER[\"scale_factor\",0.9996],PARAMETER[\"false_easting\",500000],PARAMETER[\"false_northing\",0],UNIT[\"metre\",1,AUTHORITY[\"EPSG\",\"9001\"]],AXIS[\"Easting\",EAST],AXIS[\"Northing\",NORTH],AUTHORITY[\"EPSG\",\"32612\"]],VERT_CS[\"unknown\",VERT_DATUM[\"World Geodetic System 1984\",2005,AUTHORITY[\"EPSG\",\"6326\"]],UNIT[\"metre\",1,AUTHORITY[\"EPSG\",\"9001\"]],AXIS[\"Up\",UP]]]',\n",
       "  'horizontal': 'PROJCS[\"WGS 84 / UTM zone 12N\",GEOGCS[\"WGS 84\",DATUM[\"WGS_1984\",SPHEROID[\"WGS 84\",6378137,298.257223563,AUTHORITY[\"EPSG\",\"7030\"]],AUTHORITY[\"EPSG\",\"6326\"]],PRIMEM[\"Greenwich\",0,AUTHORITY[\"EPSG\",\"8901\"]],UNIT[\"degree\",0.0174532925199433,AUTHORITY[\"EPSG\",\"9122\"]],AUTHORITY[\"EPSG\",\"4326\"]],PROJECTION[\"Transverse_Mercator\"],PARAMETER[\"latitude_of_origin\",0],PARAMETER[\"central_meridian\",-111],PARAMETER[\"scale_factor\",0.9996],PARAMETER[\"false_easting\",500000],PARAMETER[\"false_northing\",0],UNIT[\"metre\",1,AUTHORITY[\"EPSG\",\"9001\"]],AXIS[\"Easting\",EAST],AXIS[\"Northing\",NORTH],AUTHORITY[\"EPSG\",\"32612\"]]',\n",
       "  'isgeocentric': False,\n",
       "  'isgeographic': False,\n",
       "  'prettycompoundwkt': 'COMPD_CS[\"unknown\",\\n    PROJCS[\"WGS 84 / UTM zone 12N\",\\n        GEOGCS[\"WGS 84\",\\n            DATUM[\"WGS_1984\",\\n                SPHEROID[\"WGS 84\",6378137,298.257223563,\\n                    AUTHORITY[\"EPSG\",\"7030\"]],\\n                AUTHORITY[\"EPSG\",\"6326\"]],\\n            PRIMEM[\"Greenwich\",0,\\n                AUTHORITY[\"EPSG\",\"8901\"]],\\n            UNIT[\"degree\",0.0174532925199433,\\n                AUTHORITY[\"EPSG\",\"9122\"]],\\n            AUTHORITY[\"EPSG\",\"4326\"]],\\n        PROJECTION[\"Transverse_Mercator\"],\\n        PARAMETER[\"latitude_of_origin\",0],\\n        PARAMETER[\"central_meridian\",-111],\\n        PARAMETER[\"scale_factor\",0.9996],\\n        PARAMETER[\"false_easting\",500000],\\n        PARAMETER[\"false_northing\",0],\\n        UNIT[\"metre\",1,\\n            AUTHORITY[\"EPSG\",\"9001\"]],\\n        AXIS[\"Easting\",EAST],\\n        AXIS[\"Northing\",NORTH],\\n        AUTHORITY[\"EPSG\",\"32612\"]],\\n    VERT_CS[\"unknown\",\\n        VERT_DATUM[\"World Geodetic System 1984\",2005,\\n            AUTHORITY[\"EPSG\",\"6326\"]],\\n        UNIT[\"metre\",1,\\n            AUTHORITY[\"EPSG\",\"9001\"]],\\n        AXIS[\"Up\",UP]]]',\n",
       "  'prettywkt': 'PROJCS[\"WGS 84 / UTM zone 12N\",\\n    GEOGCS[\"WGS 84\",\\n        DATUM[\"WGS_1984\",\\n            SPHEROID[\"WGS 84\",6378137,298.257223563,\\n                AUTHORITY[\"EPSG\",\"7030\"]],\\n            AUTHORITY[\"EPSG\",\"6326\"]],\\n        PRIMEM[\"Greenwich\",0,\\n            AUTHORITY[\"EPSG\",\"8901\"]],\\n        UNIT[\"degree\",0.0174532925199433,\\n            AUTHORITY[\"EPSG\",\"9122\"]],\\n        AUTHORITY[\"EPSG\",\"4326\"]],\\n    PROJECTION[\"Transverse_Mercator\"],\\n    PARAMETER[\"latitude_of_origin\",0],\\n    PARAMETER[\"central_meridian\",-111],\\n    PARAMETER[\"scale_factor\",0.9996],\\n    PARAMETER[\"false_easting\",500000],\\n    PARAMETER[\"false_northing\",0],\\n    UNIT[\"metre\",1,\\n        AUTHORITY[\"EPSG\",\"9001\"]],\\n    AXIS[\"Easting\",EAST],\\n    AXIS[\"Northing\",NORTH],\\n    AUTHORITY[\"EPSG\",\"32612\"]]',\n",
       "  'proj4': '+proj=utm +zone=12 +datum=WGS84 +units=m +vunits=m +no_defs',\n",
       "  'units': {'horizontal': 'metre', 'vertical': 'metre'},\n",
       "  'vertical': 'VERT_CS[\"unknown\",VERT_DATUM[\"World Geodetic System 1984\",2005,AUTHORITY[\"EPSG\",\"6326\"]],UNIT[\"metre\",1,AUTHORITY[\"EPSG\",\"9001\"]],AXIS[\"Up\",UP]]',\n",
       "  'wkt': 'PROJCS[\"WGS 84 / UTM zone 12N\",GEOGCS[\"WGS 84\",DATUM[\"WGS_1984\",SPHEROID[\"WGS 84\",6378137,298.257223563,AUTHORITY[\"EPSG\",\"7030\"]],AUTHORITY[\"EPSG\",\"6326\"]],PRIMEM[\"Greenwich\",0,AUTHORITY[\"EPSG\",\"8901\"]],UNIT[\"degree\",0.0174532925199433,AUTHORITY[\"EPSG\",\"9122\"]],AUTHORITY[\"EPSG\",\"4326\"]],PROJECTION[\"Transverse_Mercator\"],PARAMETER[\"latitude_of_origin\",0],PARAMETER[\"central_meridian\",-111],PARAMETER[\"scale_factor\",0.9996],PARAMETER[\"false_easting\",500000],PARAMETER[\"false_northing\",0],UNIT[\"metre\",1,AUTHORITY[\"EPSG\",\"9001\"]],AXIS[\"Easting\",EAST],AXIS[\"Northing\",NORTH],AUTHORITY[\"EPSG\",\"32612\"]]'},\n",
       " 'system_id': '',\n",
       " 'vlr_0': {'data': 'AQABAAAABQAABAAAAQABAAAMAAABAGR/AxAAAAEAKSMEDAAAAQApIwIQAAABALYY',\n",
       "  'description': 'by LAStools of rapidlasso GmbH',\n",
       "  'record_id': 34735,\n",
       "  'user_id': 'LASF_Projection'},\n",
       " 'vlr_1': {'data': 'AgAAAAMBAAAAAAAAUMMAAP////////////////////8CAAYAFAACAAcACAACAA==',\n",
       "  'description': 'by laszip of LAStools (170915)',\n",
       "  'record_id': 22204,\n",
       "  'user_id': 'laszip encoded'}}"
      ]
     },
     "execution_count": 6,
     "metadata": {},
     "output_type": "execute_result"
    }
   ],
   "source": [
    "# Print a very long, but useful list of metadata\n",
    "json.loads(pipeline.metadata)[\"metadata\"][\"readers.las\"]"
   ]
  },
  {
   "cell_type": "code",
   "execution_count": 7,
   "metadata": {},
   "outputs": [],
   "source": [
    "# This subprocess is necessary to extract -info, which contains spatial information using python\n",
    "result = subprocess.run(['pdal', 'info', lasfile],\n",
    "                        stderr = subprocess.PIPE,  # stderr and stdout get\n",
    "                        stdout = subprocess.PIPE)  # captured as bytestrings\n",
    "\n",
    "json_result = json.loads(result.stdout.decode())"
   ]
  },
  {
   "cell_type": "code",
   "execution_count": 8,
   "metadata": {},
   "outputs": [
    {
     "data": {
      "text/plain": [
       "{'bbox': {'maxx': 744327.366,\n",
       "  'maxy': 4324194.645,\n",
       "  'maxz': 3106.058999,\n",
       "  'minx': 744174.899,\n",
       "  'miny': 4324076.375,\n",
       "  'minz': 3074.013},\n",
       " 'boundary': {'type': 'Polygon',\n",
       "  'coordinates': [[[744174.898998296, 4324076.375000028, 3074.013000006031],\n",
       "    [744174.898998296, 4324194.644996615, 3074.013000006031],\n",
       "    [744327.365997279, 4324194.644996615, 3106.0589994584807],\n",
       "    [744327.365997279, 4324076.375000028, 3106.0589994584807],\n",
       "    [744174.898998296, 4324076.375000028, 3074.013000006031]]]}}"
      ]
     },
     "execution_count": 8,
     "metadata": {},
     "output_type": "execute_result"
    }
   ],
   "source": [
    "json_result['stats']['bbox']['native']"
   ]
  },
  {
   "cell_type": "code",
   "execution_count": 9,
   "metadata": {},
   "outputs": [
    {
     "name": "stdout",
     "output_type": "stream",
     "text": [
      "Max X: 744327.366 Min X: 744174.899\n"
     ]
    }
   ],
   "source": [
    "print('Max X:', json.loads(pipeline.metadata)[\"metadata\"][\"readers.las\"][\"maxx\"], 'Min X:', json.loads(pipeline.metadata)[\"metadata\"][\"readers.las\"][\"minx\"])"
   ]
  },
  {
   "cell_type": "markdown",
   "metadata": {},
   "source": [
    "### Make a histogram from the LAZ data  \n",
    "Get a visual summary of your data"
   ]
  },
  {
   "cell_type": "code",
   "execution_count": 12,
   "metadata": {},
   "outputs": [
    {
     "ename": "NameError",
     "evalue": "name 'arrays' is not defined",
     "output_type": "error",
     "traceback": [
      "\u001b[1;31m---------------------------------------------------------------------------\u001b[0m",
      "\u001b[1;31mNameError\u001b[0m                                 Traceback (most recent call last)",
      "\u001b[1;32m<ipython-input-12-1295ea114ad8>\u001b[0m in \u001b[0;36m<module>\u001b[1;34m()\u001b[0m\n\u001b[0;32m     33\u001b[0m     \u001b[1;32mreturn\u001b[0m \u001b[1;32mTrue\u001b[0m\u001b[1;33m\u001b[0m\u001b[1;33m\u001b[0m\u001b[0m\n\u001b[0;32m     34\u001b[0m \u001b[1;33m\u001b[0m\u001b[0m\n\u001b[1;32m---> 35\u001b[1;33m \u001b[0mmake_plot\u001b[0m\u001b[1;33m(\u001b[0m\u001b[0marrays\u001b[0m\u001b[1;33m[\u001b[0m\u001b[1;36m0\u001b[0m\u001b[1;33m]\u001b[0m\u001b[1;33m,\u001b[0m \u001b[1;34m'histogram.png'\u001b[0m\u001b[1;33m)\u001b[0m\u001b[1;33m\u001b[0m\u001b[1;33m\u001b[0m\u001b[0m\n\u001b[0m",
      "\u001b[1;31mNameError\u001b[0m: name 'arrays' is not defined"
     ]
    }
   ],
   "source": [
    "def make_plot(dimensions, filename, dpi=300):\n",
    "    figure_position = 1\n",
    "    row = 1\n",
    "    fig = plt.figure(figure_position, figsize=(6, 8.5), dpi=dpi)\n",
    "    keys = dimensions.dtype.fields.keys()\n",
    "\n",
    "    for key in keys:\n",
    "        dimension = dimensions[key]\n",
    "        ax = fig.add_subplot(len(keys), 1, row)\n",
    "\n",
    "        n, bins, patches = ax.hist( dimension, 30,\n",
    "                                    #normed=0,\n",
    "                                    facecolor='grey',\n",
    "                                    alpha=0.75,\n",
    "                                    align='mid',\n",
    "                                    histtype='stepfilled',\n",
    "                                    linewidth=None)\n",
    "\n",
    "        ax.set_ylabel(key, size=10, rotation='horizontal')\n",
    "        ax.get_xaxis().set_visible(False)\n",
    "        ax.set_yticklabels('')\n",
    "        ax.set_yticks((),)\n",
    "        ax.set_xlim(min(dimension), max(dimension))\n",
    "        ax.set_ylim(min(n), max(n))\n",
    "        row = row + 1\n",
    "        figure_position = figure_position + 1\n",
    "    output = BytesIO()\n",
    "    plt.savefig(output,format=\"PNG\")\n",
    "\n",
    "    o = open(filename, 'wb')\n",
    "    o.write(output.getvalue())\n",
    "    o.close()\n",
    "    return True\n",
    "\n",
    "make_plot(arrays[0], 'histogram.png')"
   ]
  },
  {
   "cell_type": "markdown",
   "metadata": {},
   "source": [
    "### Import and plot data using pylas  \n",
    "Note: this method currently distorts values but plots data correctly"
   ]
  },
  {
   "cell_type": "code",
   "execution_count": null,
   "metadata": {},
   "outputs": [],
   "source": [
    "#pylas dependencies\n",
    "#pip install pylas[lazrs]\n",
    "import pylas\n",
    "import lazrs\n",
    "import s3fs\n",
    "from laspy.file import File\n",
    "import datashader as ds\n",
    "import datashader.transfer_functions as tf"
   ]
  },
  {
   "cell_type": "code",
   "execution_count": null,
   "metadata": {},
   "outputs": [],
   "source": [
    "#!LAStools/bin/laszip -i C:/Users/niko8816/Desktop/Data/SnowEX/SNEX20_TLS_CRREL_Sample/SNEX19_TLS_PC_CRREL_09232019_FL2D_WGS84.laz -o CRREL.las"
   ]
  },
  {
   "cell_type": "code",
   "execution_count": null,
   "metadata": {},
   "outputs": [],
   "source": [
    "sample_data = './data/CRREL.las'\n",
    "export_path = 'export//'"
   ]
  },
  {
   "cell_type": "code",
   "execution_count": null,
   "metadata": {},
   "outputs": [],
   "source": [
    "inFile = File(sample_data, mode='r')"
   ]
  },
  {
   "cell_type": "code",
   "execution_count": null,
   "metadata": {},
   "outputs": [],
   "source": [
    "df = pd.DataFrame() \n",
    "df['X'] = inFile.X \n",
    "df['Y'] = inFile.Y \n",
    "df['Z'] = inFile.Z\n",
    "df['intensity'] = inFile.intensity\n",
    "display(df)"
   ]
  },
  {
   "cell_type": "code",
   "execution_count": null,
   "metadata": {},
   "outputs": [],
   "source": [
    "cvs = ds.Canvas(plot_width=1000, plot_height=1000)\n",
    "agg = cvs.points(df, 'X', 'Y', ds.mean('Z'))\n",
    "img = tf.shade(agg)#, cmap=['lightblue', 'darkblue'], how='log')\n",
    "tf.set_background(tf.shade(agg, cmap=cm.inferno),\"black\")"
   ]
  }
 ],
 "metadata": {
  "kernelspec": {
   "display_name": "Python 3",
   "language": "python",
   "name": "python3"
  },
  "language_info": {
   "codemirror_mode": {
    "name": "ipython",
    "version": 3
   },
   "file_extension": ".py",
   "mimetype": "text/x-python",
   "name": "python",
   "nbconvert_exporter": "python",
   "pygments_lexer": "ipython3",
   "version": "3.7.9"
  }
 },
 "nbformat": 4,
 "nbformat_minor": 4
}
